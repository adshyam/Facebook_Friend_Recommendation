{
  "nbformat": 4,
  "nbformat_minor": 0,
  "metadata": {
    "kernelspec": {
      "display_name": "Python 3",
      "language": "python",
      "name": "python3"
    },
    "language_info": {
      "codemirror_mode": {
        "name": "ipython",
        "version": 3
      },
      "file_extension": ".py",
      "mimetype": "text/x-python",
      "name": "python",
      "nbconvert_exporter": "python",
      "pygments_lexer": "ipython3",
      "version": "3.6.5"
    },
    "colab": {
      "name": "Copy of FB_EDA.ipynb",
      "provenance": [],
      "collapsed_sections": [],
      "machine_shape": "hm",
      "include_colab_link": true
    }
  },
  "cells": [
    {
      "cell_type": "markdown",
      "metadata": {
        "id": "view-in-github",
        "colab_type": "text"
      },
      "source": [
        "<a href=\"https://colab.research.google.com/github/shyamad/Facebook/blob/master/Copy_of_FB_EDA.ipynb\" target=\"_parent\"><img src=\"https://colab.research.google.com/assets/colab-badge.svg\" alt=\"Open In Colab\"/></a>"
      ]
    },
    {
      "cell_type": "markdown",
      "metadata": {
        "id": "rnysF8x_ORlO",
        "colab_type": "text"
      },
      "source": [
        "<p style=\"font-size:32px;text-align:center\"> <b>Social network Graph Link Prediction - Facebook Challenge</b> </p>"
      ]
    },
    {
      "cell_type": "markdown",
      "metadata": {
        "id": "JkoerGBXORlS",
        "colab_type": "text"
      },
      "source": [
        "### Problem statement: \n",
        "Given a directed social graph, have to predict missing links to recommend users (Link Prediction in graph)"
      ]
    },
    {
      "cell_type": "markdown",
      "metadata": {
        "id": "V3QpE6i9ORlU",
        "colab_type": "text"
      },
      "source": [
        "### Data Overview\n",
        "Taken data from facebook's recruting challenge on kaggle https://www.kaggle.com/c/FacebookRecruiting  \n",
        "data contains two columns source and destination eac edge in graph \n",
        "    - Data columns (total 2 columns):  \n",
        "    - source_node         int64  \n",
        "    - destination_node    int64  "
      ]
    },
    {
      "cell_type": "markdown",
      "metadata": {
        "id": "BUZLwsmKORlX",
        "colab_type": "text"
      },
      "source": [
        "### Performance metric for supervised learning:  \n",
        "- Both precision and recall is important so F1 score is good choice\n",
        "- Confusion matrix"
      ]
    },
    {
      "cell_type": "code",
      "metadata": {
        "id": "JDE330RZORlY",
        "colab_type": "code",
        "colab": {}
      },
      "source": [
        "#Importing Libraries\n",
        "# please do go through this python notebook: \n",
        "import warnings\n",
        "warnings.filterwarnings(\"ignore\")\n",
        "\n",
        "import csv\n",
        "import pandas as pd#pandas to create small dataframes \n",
        "import datetime #Convert to unix time\n",
        "import time #Convert to unix time\n",
        "# if numpy is not installed already : pip3 install numpy\n",
        "import numpy as np#Do aritmetic operations on arrays\n",
        "# matplotlib: used to plot graphs\n",
        "import matplotlib\n",
        "import matplotlib.pylab as plt\n",
        "import seaborn as sns#Plots\n",
        "from matplotlib import rcParams#Size of plots  \n",
        "from sklearn.cluster import MiniBatchKMeans, KMeans#Clustering\n",
        "import math\n",
        "import pickle\n",
        "import os\n",
        "# to install xgboost: pip3 install xgboost\n",
        "import xgboost as xgb\n",
        "\n",
        "import warnings\n",
        "import networkx as nx\n",
        "import pdb\n",
        "import pickle"
      ],
      "execution_count": null,
      "outputs": []
    },
    {
      "cell_type": "code",
      "metadata": {
        "id": "g90RV3uH5gNm",
        "colab_type": "code",
        "colab": {
          "base_uri": "https://localhost:8080/",
          "height": 34
        },
        "outputId": "4b7cb8f0-2a8e-474a-c8d4-1e545d8ad3c7"
      },
      "source": [
        "from google.colab import drive\n",
        "drive.mount('/content/drive')"
      ],
      "execution_count": null,
      "outputs": [
        {
          "output_type": "stream",
          "text": [
            "Drive already mounted at /content/drive; to attempt to forcibly remount, call drive.mount(\"/content/drive\", force_remount=True).\n"
          ],
          "name": "stdout"
        }
      ]
    },
    {
      "cell_type": "code",
      "metadata": {
        "id": "TS1Uy_1fORld",
        "colab_type": "code",
        "colab": {
          "base_uri": "https://localhost:8080/",
          "height": 119
        },
        "outputId": "54493024-ea95-4b91-959c-afaa752b839f"
      },
      "source": [
        "#reading graph\n",
        "if not os.path.isfile('/content/drive/My Drive/Facebook/data/after_eda/train_woheader.csv'):\n",
        "    traincsv = pd.read_csv('/content/drive/My Drive/Facebook/data/train.csv')\n",
        "    print(traincsv[traincsv.isna().any(1)])\n",
        "    print(traincsv.info())\n",
        "    print(\"Number of diplicate entries: \",sum(traincsv.duplicated()))\n",
        "    traincsv.to_csv('/content/drive/My Drive/Facebook/data/after_eda/train_woheader.csv',header=False,index=False)\n",
        "    print(\"saved the graph into file\")\n",
        "else:\n",
        "    g=nx.read_edgelist('/content/drive/My Drive/Facebook/data/after_eda/train_woheader.csv',delimiter=',',create_using=nx.DiGraph(),nodetype=int)\n",
        "    print(nx.info(g))"
      ],
      "execution_count": null,
      "outputs": [
        {
          "output_type": "stream",
          "text": [
            "Name: \n",
            "Type: DiGraph\n",
            "Number of nodes: 1862220\n",
            "Number of edges: 9437519\n",
            "Average in degree:   5.0679\n",
            "Average out degree:   5.0679\n"
          ],
          "name": "stdout"
        }
      ]
    },
    {
      "cell_type": "markdown",
      "metadata": {
        "id": "u6uqmjurORnT",
        "colab_type": "text"
      },
      "source": [
        "# 2. Posing a problem as classification problem "
      ]
    },
    {
      "cell_type": "markdown",
      "metadata": {
        "id": "dZYvDAwDORnU",
        "colab_type": "text"
      },
      "source": [
        "## 2.1 Generating some edges which are not present in graph for supervised learning  \n",
        "Generated Bad links from graph which are not in graph and whose shortest path is greater than 2. "
      ]
    },
    {
      "cell_type": "code",
      "metadata": {
        "id": "1YVbbdL1ORnW",
        "colab_type": "code",
        "colab": {
          "base_uri": "https://localhost:8080/",
          "height": 51
        },
        "outputId": "c393d13f-7ca9-49af-e364-4202a88838ac"
      },
      "source": [
        "%%time\n",
        "###generating bad edges from given graph\n",
        "import random\n",
        "if not os.path.isfile('/content/drive/My Drive/Facebook/data/after_eda/missing_edges_final.p'):\n",
        "    #getting all set of edges\n",
        "    r = csv.reader(open('/content/drive/My Drive/Facebook/data/after_eda/train_woheader.csv','r'))\n",
        "    edges = dict()\n",
        "    for edge in r:\n",
        "        edges[(edge[0], edge[1])] = 1\n",
        "        \n",
        "        \n",
        "    missing_edges = set([])\n",
        "    while (len(missing_edges)<9437519):\n",
        "        a=random.randint(1, 1862220)\n",
        "        b=random.randint(1, 1862220)\n",
        "        tmp = edges.get((a,b),-1)\n",
        "        if tmp == -1 and a!=b:\n",
        "            try:\n",
        "                if nx.shortest_path_length(g,source=a,target=b) > 2: \n",
        "\n",
        "                    missing_edges.add((a,b))\n",
        "                else:\n",
        "                    continue  \n",
        "            except:  \n",
        "                    missing_edges.add((a,b))              \n",
        "        else:\n",
        "            continue\n",
        "    pickle.dump(missing_edges,open('/content/drive/My Drive/Facebook/data/after_eda/missing_edges_final.p','wb'))\n",
        "else:\n",
        "    missing_edges = pickle.load(open('/content/drive/My Drive/Facebook/data/after_eda/missing_edges_final.p','rb'))"
      ],
      "execution_count": null,
      "outputs": [
        {
          "output_type": "stream",
          "text": [
            "CPU times: user 3.96 s, sys: 773 ms, total: 4.73 s\n",
            "Wall time: 5.77 s\n"
          ],
          "name": "stdout"
        }
      ]
    },
    {
      "cell_type": "code",
      "metadata": {
        "id": "7gVf5nUwORnb",
        "colab_type": "code",
        "colab": {
          "base_uri": "https://localhost:8080/",
          "height": 34
        },
        "outputId": "902560d9-f556-49bc-8fcf-64ff818dacda"
      },
      "source": [
        "len(missing_edges)"
      ],
      "execution_count": null,
      "outputs": [
        {
          "output_type": "execute_result",
          "data": {
            "text/plain": [
              "9437519"
            ]
          },
          "metadata": {
            "tags": []
          },
          "execution_count": 288
        }
      ]
    },
    {
      "cell_type": "markdown",
      "metadata": {
        "id": "JrsSrB9lN5K6",
        "colab_type": "text"
      },
      "source": [
        ""
      ]
    },
    {
      "cell_type": "code",
      "metadata": {
        "id": "-a5_gpnjLyqj",
        "colab_type": "code",
        "colab": {
          "base_uri": "https://localhost:8080/",
          "height": 85
        },
        "outputId": "82450b00-8765-408c-ff60-14a0da620e27"
      },
      "source": [
        "from sklearn.model_selection import train_test_split\n",
        "# if (not os.path.isfile('/content/drive/My Drive/Facebook/data/after_eda/test_pos_after_eda.csv')) and (not os.path.isfile('/content/drive/My Drive/Facebook/data/after_eda/test_pos_after_eda.csv')):\n",
        "#     #reading total data df\n",
        "df_pos = pd.read_csv('/content/drive/My Drive/Facebook/data/train.csv')\n",
        "df_neg = pd.DataFrame(list(missing_edges), columns=['source_node', 'destination_node'])\n",
        "x_train_pos,x_test_pos,y_train_pos,y_test_pos=train_test_split(df_pos,np.ones(len(df_pos)),test_size=0.2,random_state=10)\n",
        "x_train_neg,x_test_neg,y_train_neg, y_test_neg=train_test_split(df_neg,np.zeros(len(df_neg)),test_size=0.2,random_state=10)\n",
        "\n",
        "x_train=x_train_pos.append(x_train_neg,ignore_index=True)\n",
        "y_train=np.concatenate((y_train_pos, y_train_neg))\n",
        "\n",
        "x_test=x_test_pos.append(x_test_neg,ignore_index=True)\n",
        "y_test=np.concatenate((y_test_pos,y_test_neg))\n",
        "\n",
        "print(x_train.shape)\n",
        "print(y_train.shape)\n",
        "print(x_test.shape)\n",
        "print(y_test.shape)\n",
        "\n"
      ],
      "execution_count": null,
      "outputs": [
        {
          "output_type": "stream",
          "text": [
            "(15100030, 2)\n",
            "(15100030,)\n",
            "(3775008, 2)\n",
            "(3775008,)\n"
          ],
          "name": "stdout"
        }
      ]
    },
    {
      "cell_type": "code",
      "metadata": {
        "id": "pNvTqQpqn2O6",
        "colab_type": "code",
        "colab": {
          "base_uri": "https://localhost:8080/",
          "height": 119
        },
        "outputId": "b3eefeef-5a19-45d2-81bb-98ca4465b999"
      },
      "source": [
        "if os.path.isfile('/content/drive/My Drive/Facebook/data/after_eda/train_pos_after_eda.csv'):\n",
        "  train_graph=nx.read_edgelist('/content/drive/My Drive/Facebook/data/after_eda/train_pos_after_eda.csv',delimiter=',',create_using=nx.DiGraph(),nodetype=int)\n",
        "  print(nx.info(train_graph))\n",
        "else:\n",
        "  print(\"please download the files from drive\")    \n"
      ],
      "execution_count": null,
      "outputs": [
        {
          "output_type": "stream",
          "text": [
            "Name: \n",
            "Type: DiGraph\n",
            "Number of nodes: 1780722\n",
            "Number of edges: 7550015\n",
            "Average in degree:   4.2399\n",
            "Average out degree:   4.2399\n"
          ],
          "name": "stdout"
        }
      ]
    },
    {
      "cell_type": "code",
      "metadata": {
        "id": "2B5Br_GzfZZa",
        "colab_type": "code",
        "colab": {
          "base_uri": "https://localhost:8080/",
          "height": 119
        },
        "outputId": "62d1eef4-47a3-41ef-aaeb-0085e815e5ea"
      },
      "source": [
        "if os.path.isfile('/content/drive/My Drive/Facebook/data/after_eda/test_pos_after_eda.csv'):\n",
        "  test_graph=nx.read_edgelist('/content/drive/My Drive/Facebook/data/after_eda/test_pos_after_eda.csv',delimiter=',',create_using=nx.DiGraph(),nodetype=int)\n",
        "  print(nx.info(test_graph))\n",
        "else:\n",
        "  print(\"please download the files from drive\")    \n",
        "\n"
      ],
      "execution_count": null,
      "outputs": [
        {
          "output_type": "stream",
          "text": [
            "Name: \n",
            "Type: DiGraph\n",
            "Number of nodes: 1144623\n",
            "Number of edges: 1887504\n",
            "Average in degree:   1.6490\n",
            "Average out degree:   1.6490\n"
          ],
          "name": "stdout"
        }
      ]
    },
    {
      "cell_type": "code",
      "metadata": {
        "id": "olsKmauJ7awS",
        "colab_type": "code",
        "colab": {
          "base_uri": "https://localhost:8080/",
          "height": 187
        },
        "outputId": "cf2351cd-daf9-4640-f8b9-bbf3b9f9d1ae"
      },
      "source": [
        "x=pd.read_csv('/content/drive/My Drive/Facebook/data/after_eda/test_pos_after_eda.csv')\n",
        "print(x.head())\n",
        "y=list(train_graph.successors(848424))\n",
        "print(y)\n",
        "y_suc=list(train_graph.successors(784690))\n",
        "print(y_suc)\n",
        "y_pre1=list(train_graph.predecessors(848424))\n",
        "print(y_pre1)\n",
        "y_pre2=list(train_graph.predecessors(784690))\n",
        "print(y_pre2)"
      ],
      "execution_count": null,
      "outputs": [
        {
          "output_type": "stream",
          "text": [
            "    848424   784690\n",
            "0  1248963   444518\n",
            "1   264224   132395\n",
            "2   549680   326829\n",
            "3   875380  1394902\n",
            "4  1315983   196578\n",
            "[868707, 236489, 1744861, 621332, 1538385, 997389]\n",
            "[468448, 1284157, 1453712, 996477, 848424, 1125837, 656142, 471573, 1540008]\n",
            "[997389, 236489, 784690, 621332, 868707, 1538385]\n",
            "[1453712, 40878, 621332, 1520509, 752347, 1284157, 1540008, 656142, 1766717, 264833, 323889, 312427, 671375, 703906]\n"
          ],
          "name": "stdout"
        }
      ]
    },
    {
      "cell_type": "code",
      "metadata": {
        "id": "PYTpsY3dfvtk",
        "colab_type": "code",
        "colab": {
          "base_uri": "https://localhost:8080/",
          "height": 34
        },
        "outputId": "30ea506e-7e9b-458a-9486-436100f842d8"
      },
      "source": [
        "# Jaccard distance for followees\n",
        "def jaccard_for_followees(a,b):\n",
        "  try:\n",
        "    if len(set(train_graph.successors(a))) ==0 | len(set(train_graph.successors(b)))==0:\n",
        "      return 0\n",
        "    else:\n",
        "      JD= (len(set(train_graph.successors(a)).intersection(set(train_graph.successors(b)))))/(len(set(train_graph.successors(a)).union(set(train_graph.successors(b)))))\n",
        "      return JD\n",
        "  except:\n",
        "    return 0\n",
        "  \n",
        "print(jaccard_for_followees(848424,784690)) \n"
      ],
      "execution_count": null,
      "outputs": [
        {
          "output_type": "stream",
          "text": [
            "0.0\n"
          ],
          "name": "stdout"
        }
      ]
    },
    {
      "cell_type": "code",
      "metadata": {
        "id": "rHxTbSgNbM1z",
        "colab_type": "code",
        "colab": {
          "base_uri": "https://localhost:8080/",
          "height": 34
        },
        "outputId": "9ee39802-2e93-483d-eb59-7bd0dc56471e"
      },
      "source": [
        "#Jacard distance for followers\n",
        "def jaccard_for_followers(a,b):\n",
        "  try:\n",
        "    if len(set(train_graph.predecessors(a)))==0 | len(set(train_graph.predecessors(b)))==0:\n",
        "      return 0\n",
        "    else:\n",
        "      JD= (len(set(train_graph.predecessors(a)).intersection(set(train_graph.predecessors(b)))))/(len(set(train_graph.predecessors(a)).union(set(train_graph.predecessors(b)))))\n",
        "      return JD\n",
        "  except:\n",
        "    return 0 \n",
        " \n",
        "print(jaccard_for_followers(848424,784690))   "
      ],
      "execution_count": null,
      "outputs": [
        {
          "output_type": "stream",
          "text": [
            "0.05263157894736842\n"
          ],
          "name": "stdout"
        }
      ]
    },
    {
      "cell_type": "code",
      "metadata": {
        "id": "T4aH2s4-jCxv",
        "colab_type": "code",
        "colab": {
          "base_uri": "https://localhost:8080/",
          "height": 272
        },
        "outputId": "cfd13a21-c9e3-43a6-91ef-f652e846ced9"
      },
      "source": [
        "print(x_train)\n",
        "print(len(x_train))\n"
      ],
      "execution_count": null,
      "outputs": [
        {
          "output_type": "stream",
          "text": [
            "          source_node  destination_node\n",
            "0               17968            449506\n",
            "1             1150315            598880\n",
            "2             1752907           1600628\n",
            "3              526734            935172\n",
            "4              707426            117418\n",
            "...               ...               ...\n",
            "15100025      1313347            703014\n",
            "15100026      1276564           1650084\n",
            "15100027      1705624            128054\n",
            "15100028       892815           1556973\n",
            "15100029      1326707           1018633\n",
            "\n",
            "[15100030 rows x 2 columns]\n",
            "15100030\n"
          ],
          "name": "stdout"
        }
      ]
    },
    {
      "cell_type": "code",
      "metadata": {
        "id": "vvkc1iWq5WW6",
        "colab_type": "code",
        "colab": {}
      },
      "source": [
        "import random\n",
        "if os.path.isfile('/content/drive/My Drive/Facebook/data/after_eda/train_after_eda.csv'):\n",
        "  filename='/content/drive/My Drive/Facebook/data/after_eda/train_after_eda.csv'\n",
        "  x_train=15100030\n",
        "  desired_train=100000\n",
        "  train_skip=sorted(random.sample(range(1,x_train+1),x_train - desired_train))\n"
      ],
      "execution_count": null,
      "outputs": []
    },
    {
      "cell_type": "code",
      "metadata": {
        "id": "2U49ItDa8mwQ",
        "colab_type": "code",
        "colab": {}
      },
      "source": [
        "import random\n",
        "if os.path.isfile('/content/drive/My Drive/Facebook/data/after_eda/train_after_eda.csv'):\n",
        "  filename='/content/drive/My Drive/Facebook/data/after_eda/test_after_eda.csv'\n",
        "  x_test=3775008\n",
        "  desired_test=50000\n",
        "  test_skip=sorted(random.sample(range(1,x_test+1),x_test - desired_test))\n"
      ],
      "execution_count": null,
      "outputs": []
    },
    {
      "cell_type": "code",
      "metadata": {
        "id": "HDik9PlM9ntU",
        "colab_type": "code",
        "colab": {}
      },
      "source": [
        "df_train=pd.read_csv('/content/drive/My Drive/Facebook/data/after_eda/train_after_eda.csv',skiprows=train_skip, names=['source_node', 'destination_node'])\n",
        "df_train.shape\n",
        "df_train.head(5)\n",
        "y_train_f=pd.read_csv('/content/drive/My Drive/Facebook/data/train_y.csv',skiprows=train_skip,names=['class'])"
      ],
      "execution_count": null,
      "outputs": []
    },
    {
      "cell_type": "code",
      "metadata": {
        "id": "W3ittgQaUaoz",
        "colab_type": "code",
        "colab": {
          "base_uri": "https://localhost:8080/",
          "height": 34
        },
        "outputId": "9000c377-39af-4acb-f692-67432a3dd468"
      },
      "source": [
        "y_train_f.shape"
      ],
      "execution_count": null,
      "outputs": [
        {
          "output_type": "execute_result",
          "data": {
            "text/plain": [
              "(100001, 1)"
            ]
          },
          "metadata": {
            "tags": []
          },
          "execution_count": 296
        }
      ]
    },
    {
      "cell_type": "code",
      "metadata": {
        "id": "tHk2b5JGADqa",
        "colab_type": "code",
        "colab": {}
      },
      "source": [
        "df_test=pd.read_csv('/content/drive/My Drive/Facebook/data/after_eda/test_after_eda.csv',skiprows=test_skip,names=['source_node','destination_node'])\n",
        "df_test.shape\n",
        "y_test_f=pd.read_csv('/content/drive/My Drive/Facebook/data/test_y.csv',skiprows=test_skip,names=['test_class'])"
      ],
      "execution_count": null,
      "outputs": []
    },
    {
      "cell_type": "code",
      "metadata": {
        "id": "aOuzt1L9Ufqn",
        "colab_type": "code",
        "colab": {
          "base_uri": "https://localhost:8080/",
          "height": 34
        },
        "outputId": "fdc0fd9d-c0e4-4596-ba0a-46dfabd869fc"
      },
      "source": [
        "y_test_f.shape"
      ],
      "execution_count": null,
      "outputs": [
        {
          "output_type": "execute_result",
          "data": {
            "text/plain": [
              "(50001, 1)"
            ]
          },
          "metadata": {
            "tags": []
          },
          "execution_count": 214
        }
      ]
    },
    {
      "cell_type": "code",
      "metadata": {
        "id": "oBJqZW68cSlE",
        "colab_type": "code",
        "colab": {
          "base_uri": "https://localhost:8080/",
          "height": 34
        },
        "outputId": "59a7e1dd-f67f-4099-c663-ee5b335e9468"
      },
      "source": [
        "df_test.columns"
      ],
      "execution_count": null,
      "outputs": [
        {
          "output_type": "execute_result",
          "data": {
            "text/plain": [
              "Index(['source_node', 'destination_node'], dtype='object')"
            ]
          },
          "metadata": {
            "tags": []
          },
          "execution_count": 303
        }
      ]
    },
    {
      "cell_type": "code",
      "metadata": {
        "id": "HMmIV3GjAvaT",
        "colab_type": "code",
        "colab": {}
      },
      "source": [
        "df_train['J_followees']=df_train.apply(lambda x:jaccard_for_followees(x['source_node'],x['destination_node']),axis=1)\n",
        "df_test['J_followees']=df_test.apply(lambda x:jaccard_for_followees(x['source_node'],x['destination_node']),axis=1)\n",
        "\n",
        "                                                                                       "
      ],
      "execution_count": null,
      "outputs": []
    },
    {
      "cell_type": "code",
      "metadata": {
        "id": "5eZCdljiP3rU",
        "colab_type": "code",
        "colab": {}
      },
      "source": [
        "df_train['J_followers']=df_train.apply(lambda x:jaccard_for_followers(x['source_node'],x['destination_node']),axis=1)\n",
        "df_test['J_followers']=df_test.apply(lambda x:jaccard_for_followers(x['source_node'],x['destination_node']),axis=1)"
      ],
      "execution_count": null,
      "outputs": []
    },
    {
      "cell_type": "code",
      "metadata": {
        "id": "n8Xeebh_ObPM",
        "colab_type": "code",
        "colab": {
          "base_uri": "https://localhost:8080/",
          "height": 221
        },
        "outputId": "e43b9bc0-1baa-427d-8d94-be2f16060856"
      },
      "source": [
        "print(df_train.head(10))\n",
        "print(df_train.shape)"
      ],
      "execution_count": null,
      "outputs": [
        {
          "output_type": "stream",
          "text": [
            "   source_node  destination_node  J_followees  J_followers\n",
            "0       273084           1505602     0.000000     0.000000\n",
            "1      1462461           1600294     0.153846     0.090909\n",
            "2      1785341           1843022     0.058824     0.000000\n",
            "3       975298           1518413     0.055556     0.071429\n",
            "4      1347865            386427     0.000000     0.000000\n",
            "5       187975            139456     0.000000     0.000000\n",
            "6       523209            645606     0.000000     0.014706\n",
            "7      1153748            690012     0.000000     0.012500\n",
            "8      1123732           1068536     0.200000     0.000000\n",
            "9       323609           1662850     0.000000     0.071429\n",
            "(100001, 4)\n"
          ],
          "name": "stdout"
        }
      ]
    },
    {
      "cell_type": "code",
      "metadata": {
        "id": "3-lZxoVwCKhE",
        "colab_type": "code",
        "colab": {}
      },
      "source": [
        "# cosine samilarity for followees\n",
        "def cosine_for_followees(a,b):\n",
        "  try:\n",
        "    if len(set(train_graph.successors(a)))==0 | len(set(train_graph.successors(b)))==0:\n",
        "      return 0\n",
        "    else:\n",
        "      sim= (len(set(train_graph.successors(a)).intersection(set(train_graph.successors(b))))) / (math.sqrt(len(set(train_graph.successors(a))) * len(set(train_graph.successors(b)))))\n",
        "      return sim\n",
        "  except:\n",
        "    return 0\n",
        "  return sim"
      ],
      "execution_count": null,
      "outputs": []
    },
    {
      "cell_type": "code",
      "metadata": {
        "id": "a9VQpXqqIFU7",
        "colab_type": "code",
        "colab": {}
      },
      "source": [
        "# cosine similarity for followers\n",
        "def cosine_for_followers(a,b):\n",
        "  try:\n",
        "    if len(set(train_graph.predecessors(a)))==0 | len(set(train_graph.predecessors(b)))==0:\n",
        "      return 0\n",
        "    else:\n",
        "      sim= (len(set(train_graph.predecessors(a)).intersection(set(train_graph.predecessors(b))))) / (math.sqrt(len(set(train_graph.predecessors(a)))* len(set(train_graph.predecessors(b)))))\n",
        "      return sim\n",
        "  except:\n",
        "    return 0\n",
        "  return sim     \n"
      ],
      "execution_count": null,
      "outputs": []
    },
    {
      "cell_type": "code",
      "metadata": {
        "id": "Rgm1U22ZJ1s0",
        "colab_type": "code",
        "colab": {}
      },
      "source": [
        "df_train['cos_followees']=df_train.apply(lambda x:cosine_for_followees(x['source_node'],x['destination_node']),axis=1)\n",
        "df_test['cos_followees']=df_test.apply(lambda x:cosine_for_followees(x['source_node'],x['destination_node']),axis=1)"
      ],
      "execution_count": null,
      "outputs": []
    },
    {
      "cell_type": "code",
      "metadata": {
        "id": "slB9j18xLxM9",
        "colab_type": "code",
        "colab": {}
      },
      "source": [
        "df_train['cos_followers']=df_train.apply(lambda x:cosine_for_followers(x['source_node'],x['destination_node']),axis=1)\n",
        "df_test['cos_followers']=df_test.apply(lambda x:cosine_for_followers(x['source_node'],x['destination_node']),axis=1)"
      ],
      "execution_count": null,
      "outputs": []
    },
    {
      "cell_type": "code",
      "metadata": {
        "id": "cHhGWMnqnEjB",
        "colab_type": "code",
        "colab": {}
      },
      "source": [
        "pr=nx.pagerank(train_graph,alpha=0.85)\n",
        "\n",
        "  "
      ],
      "execution_count": null,
      "outputs": []
    },
    {
      "cell_type": "code",
      "metadata": {
        "id": "1tneK7uat8jJ",
        "colab_type": "code",
        "colab": {}
      },
      "source": [
        "pr_mean=float(sum(pr.values()))/len(pr)"
      ],
      "execution_count": null,
      "outputs": []
    },
    {
      "cell_type": "code",
      "metadata": {
        "id": "hGsgzs6FuGUu",
        "colab_type": "code",
        "colab": {
          "base_uri": "https://localhost:8080/",
          "height": 34
        },
        "outputId": "81f005e5-657e-4808-f9bb-7c261f734d49"
      },
      "source": [
        "print(pr_mean)"
      ],
      "execution_count": null,
      "outputs": [
        {
          "output_type": "stream",
          "text": [
            "5.615699699389075e-07\n"
          ],
          "name": "stdout"
        }
      ]
    },
    {
      "cell_type": "code",
      "metadata": {
        "id": "jWgmQdrSVc6r",
        "colab_type": "code",
        "colab": {}
      },
      "source": [
        "pr_test=nx.pagerank(test_graph,alpha=0.85)\n",
        "pr_mean_test=float(sum(pr_test.values()))/len(pr_test)"
      ],
      "execution_count": null,
      "outputs": []
    },
    {
      "cell_type": "code",
      "metadata": {
        "id": "a-KpwTA1Vz8X",
        "colab_type": "code",
        "colab": {}
      },
      "source": [
        "df_test['Page_Rank_s']=df_test.source_node.apply(lambda x: pr_test.get(x,pr_mean_test))\n",
        "df_test['Page_Rank_d']=df_test.destination_node.apply(lambda x: pr_test.get(x,pr_mean_test))"
      ],
      "execution_count": null,
      "outputs": []
    },
    {
      "cell_type": "code",
      "metadata": {
        "id": "dGqMJKzHU0Tf",
        "colab_type": "code",
        "colab": {}
      },
      "source": [
        "# pagerank for train\n",
        "df_train['Page_Rank_s']=df_train.source_node.apply(lambda x:pr.get(x,pr_mean))\n",
        "df_train['Page_Rank_d']=df_train.destination_node.apply(lambda x:pr.get(x,pr_mean))"
      ],
      "execution_count": null,
      "outputs": []
    },
    {
      "cell_type": "code",
      "metadata": {
        "id": "xE2cWRYWxd5O",
        "colab_type": "code",
        "colab": {
          "base_uri": "https://localhost:8080/",
          "height": 34
        },
        "outputId": "385cb88e-fefb-4525-ec23-44987bc8ba88"
      },
      "source": [
        "def calculate_shortest_path_length(a,b):\n",
        "    l=-1\n",
        "    try:\n",
        "        if train_graph.has_edge(a,b):\n",
        "            train_graph.remove_edge(a,b)\n",
        "            l= nx.shortest_path_length(train_graph,source=a,target=b)\n",
        "            train_graph.add_edge(a,b)\n",
        "        else:\n",
        "            l= nx.shortest_path_length(train_graph,source=a,target=b)\n",
        "        return l\n",
        "    except:\n",
        "        return -1\n",
        "print(calculate_shortest_path_length(77697,1056459))\n"
      ],
      "execution_count": null,
      "outputs": [
        {
          "output_type": "stream",
          "text": [
            "11\n"
          ],
          "name": "stdout"
        }
      ]
    },
    {
      "cell_type": "code",
      "metadata": {
        "id": "_GOzaoUGy7Z5",
        "colab_type": "code",
        "colab": {}
      },
      "source": [
        "df_train['shortest_path']=df_train.apply(lambda x:calculate_shortest_path_length(x['source_node'],x['destination_node']),axis=1)\n"
      ],
      "execution_count": null,
      "outputs": []
    },
    {
      "cell_type": "code",
      "metadata": {
        "id": "uDmlbU-7-nm-",
        "colab_type": "code",
        "colab": {}
      },
      "source": [
        "def compute_shortest_path_length(a,b):\n",
        "  p=-1\n",
        "  try:\n",
        "    if test_graph.has_edge(a,b):\n",
        "      test_graph.remove_edge(a,b)\n",
        "      p=nx.shortest_path_length(test_graph, source=a, target=b)\n",
        "      test_graph.add_edge(a,b)\n",
        "    else:\n",
        "      p=nx.shortest_path_length(test_graph,source=a,target=b)\n",
        "    return p\n",
        "  except:\n",
        "    return -1\n",
        "\n"
      ],
      "execution_count": null,
      "outputs": []
    },
    {
      "cell_type": "code",
      "metadata": {
        "id": "YDCD095Y_1Wo",
        "colab_type": "code",
        "colab": {}
      },
      "source": [
        "df_test['shortest_path']=df_test.apply(lambda x:compute_shortest_path_length(x['source_node'],x['destination_node']),axis=1)\n"
      ],
      "execution_count": null,
      "outputs": []
    },
    {
      "cell_type": "code",
      "metadata": {
        "id": "xHzw8myV-Pgy",
        "colab_type": "code",
        "colab": {}
      },
      "source": [
        "# weekly connected edges from the train graph\n",
        "wcc=list(nx.weakly_connected_components(train_graph))\n",
        "def belongs_to_same_wcc(a,b):\n",
        "    index = []\n",
        "    if train_graph.has_edge(b,a):\n",
        "        return 1\n",
        "    if train_graph.has_edge(a,b):\n",
        "            for i in wcc:\n",
        "                if a in i:\n",
        "                    index= i\n",
        "                    break\n",
        "            if (b in index):\n",
        "                train_graph.remove_edge(a,b)\n",
        "                if calculate_shortest_path_length(a,b)==-1:\n",
        "                    train_graph.add_edge(a,b)\n",
        "                    return 0\n",
        "                else:\n",
        "                    train_graph.add_edge(a,b)\n",
        "                    return 1\n",
        "            else:\n",
        "                return 0\n",
        "    else:\n",
        "            for i in wcc:\n",
        "                if a in i:\n",
        "                    index= i\n",
        "                    break\n",
        "            if(b in index):\n",
        "                return 1\n",
        "            else:\n",
        "                return 0\n"
      ],
      "execution_count": null,
      "outputs": []
    },
    {
      "cell_type": "code",
      "metadata": {
        "id": "7-O0DHxIWvOg",
        "colab_type": "code",
        "colab": {
          "base_uri": "https://localhost:8080/",
          "height": 34
        },
        "outputId": "9ec837cd-2f41-4971-a94f-565e6be6f4e1"
      },
      "source": [
        "belongs_to_same_wcc(861, 1659750)"
      ],
      "execution_count": null,
      "outputs": [
        {
          "output_type": "execute_result",
          "data": {
            "text/plain": [
              "0"
            ]
          },
          "metadata": {
            "tags": []
          },
          "execution_count": 323
        }
      ]
    },
    {
      "cell_type": "code",
      "metadata": {
        "id": "Bt6MPgEhpzdZ",
        "colab_type": "code",
        "colab": {}
      },
      "source": [
        "df_train['same_wcc']=df_train.apply( lambda x:belongs_to_same_wcc(x['source_node'],x['destination_node']),axis=1)"
      ],
      "execution_count": null,
      "outputs": []
    },
    {
      "cell_type": "code",
      "metadata": {
        "id": "6GpBUuaHrPpg",
        "colab_type": "code",
        "colab": {}
      },
      "source": [
        "# weekly connected components for the test graph\n",
        "wcc=list(nx.weakly_connected_components(test_graph))\n",
        "def belongs_to_same_wcc_test(a,b):\n",
        "    index = []\n",
        "    if test_graph.has_edge(b,a):\n",
        "        return 1\n",
        "    if test_graph.has_edge(a,b):\n",
        "            for i in wcc:\n",
        "                if a in i:\n",
        "                    index= i\n",
        "                    break\n",
        "            if (b in index):\n",
        "                test_graph.remove_edge(a,b)\n",
        "                if compute_shortest_path_length(a,b)==-1:\n",
        "                    test_graph.add_edge(a,b)\n",
        "                    return 0\n",
        "                else:\n",
        "                    test_graph.add_edge(a,b)\n",
        "                    return 1\n",
        "            else:\n",
        "                return 0\n",
        "    else:\n",
        "            for i in wcc:\n",
        "                if a in i:\n",
        "                    index= i\n",
        "                    break\n",
        "            if(b in index):\n",
        "                return 1\n",
        "            else:\n",
        "                return 0\n"
      ],
      "execution_count": null,
      "outputs": []
    },
    {
      "cell_type": "code",
      "metadata": {
        "id": "ZF7_vCB6rO3K",
        "colab_type": "code",
        "colab": {}
      },
      "source": [
        "df_test['same_wcc']=df_test.apply(lambda x:belongs_to_same_wcc_test(x['source_node'],x['destination_node']),axis=1)"
      ],
      "execution_count": null,
      "outputs": []
    },
    {
      "cell_type": "code",
      "metadata": {
        "id": "I1blen4os6LM",
        "colab_type": "code",
        "colab": {}
      },
      "source": [
        "# adar_index for train graph\n",
        "def cal_adar_index(a,b):\n",
        "  sum=0\n",
        "  try:\n",
        "    n=list(set(train_graph.successors(a)).intersection(set(train_graph.successors(b))))\n",
        "    if len(n)!=0:\n",
        "      for i in n:\n",
        "        sum= sum+ (1/(np.log10(len(list(train_graph.predecessors(i))))))\n",
        "      return sum\n",
        "    else:\n",
        "      return 0\n",
        "  except:\n",
        "    return 0\n",
        "def cal_adar_index_test(a,b):\n",
        "  sum=0\n",
        "  try:\n",
        "    n=list(set(test_graph.successors(a)).intersection(set(test_graph.successors(b))))\n",
        "    if len(n)!=0:\n",
        "      for i in n:\n",
        "        sum= sum+ (1/(np.log10(len(list(test_graph.predecessors(i))))))\n",
        "      return sum\n",
        "    else:\n",
        "      return 0\n",
        "  except:\n",
        "    return 0"
      ],
      "execution_count": null,
      "outputs": []
    },
    {
      "cell_type": "code",
      "metadata": {
        "id": "03m9guR4z18x",
        "colab_type": "code",
        "colab": {
          "base_uri": "https://localhost:8080/",
          "height": 34
        },
        "outputId": "76f070ee-ca1d-4986-dea0-70817af5c69d"
      },
      "source": [
        "cal_adar_index(1,189226)"
      ],
      "execution_count": null,
      "outputs": [
        {
          "output_type": "execute_result",
          "data": {
            "text/plain": [
              "0"
            ]
          },
          "metadata": {
            "tags": []
          },
          "execution_count": 331
        }
      ]
    },
    {
      "cell_type": "code",
      "metadata": {
        "id": "CnXdSTZ40iEi",
        "colab_type": "code",
        "colab": {}
      },
      "source": [
        "df_train['adar_index']=df_train.apply(lambda x:cal_adar_index(x['source_node'],x['destination_node']),axis=1)"
      ],
      "execution_count": null,
      "outputs": []
    },
    {
      "cell_type": "code",
      "metadata": {
        "id": "XFS5olzb047y",
        "colab_type": "code",
        "colab": {}
      },
      "source": [
        "df_test['adar_index']=df_test.apply(lambda x :cal_adar_index_test(x['source_node'],x['destination_node']),axis=1)\n"
      ],
      "execution_count": null,
      "outputs": []
    },
    {
      "cell_type": "code",
      "metadata": {
        "id": "imjYYvkb4iK4",
        "colab_type": "code",
        "colab": {}
      },
      "source": [
        "def follow_back(a,b):\n",
        "  if train_graph.has_edge(b,a):\n",
        "    return 1\n",
        "  else:\n",
        "    return 0\n",
        "def follow_back_test(a,b):\n",
        "  if test_graph.has_edge(b,a):\n",
        "    return 1\n",
        "  else:\n",
        "    return 0\n"
      ],
      "execution_count": null,
      "outputs": []
    },
    {
      "cell_type": "code",
      "metadata": {
        "id": "nlI6Le6U5TRd",
        "colab_type": "code",
        "colab": {}
      },
      "source": [
        "df_train['f_back']=df_train.apply(lambda x: follow_back(x['source_node'],x['destination_node']),axis=1)\n"
      ],
      "execution_count": null,
      "outputs": []
    },
    {
      "cell_type": "code",
      "metadata": {
        "id": "7WbD1uLp5pcI",
        "colab_type": "code",
        "colab": {}
      },
      "source": [
        "df_test['f_back']=df_test.apply(lambda x:follow_back_test(x['source_node'],x['destination_node']),axis=1)"
      ],
      "execution_count": null,
      "outputs": []
    },
    {
      "cell_type": "code",
      "metadata": {
        "id": "nBHqYgXY53rW",
        "colab_type": "code",
        "colab": {}
      },
      "source": [
        "# katz centrality\n",
        "katz_train = nx.katz.katz_centrality(train_graph,alpha=0.005,beta=1)\n",
        "mean_katz_train = float(sum(katz_train.values())) / len(katz_train)\n",
        "\n",
        "katz_test = nx.katz.katz_centrality(test_graph,alpha=0.005,beta=1)\n",
        "mean_katz_test = float(sum(katz_test.values())) / len(katz_test)"
      ],
      "execution_count": null,
      "outputs": []
    },
    {
      "cell_type": "code",
      "metadata": {
        "id": "uYBmQG4v9baQ",
        "colab_type": "code",
        "colab": {}
      },
      "source": [
        "df_train['katz_s']=df_train.source_node.apply(lambda x:katz_train.get(x,mean_katz_train))\n",
        "df_train['katz_d']=df_train.destination_node.apply(lambda x: katz_train.get(x,mean_katz_train))"
      ],
      "execution_count": null,
      "outputs": []
    },
    {
      "cell_type": "code",
      "metadata": {
        "id": "p73jyurV_Sbv",
        "colab_type": "code",
        "colab": {}
      },
      "source": [
        "df_test['katz_s']=df_test.source_node.apply(lambda x:katz_test.get(x,mean_katz_test))\n",
        "df_test['katz_d']=df_test.destination_node.apply(lambda x:katz_test.get(x,mean_katz_test))"
      ],
      "execution_count": null,
      "outputs": []
    },
    {
      "cell_type": "code",
      "metadata": {
        "id": "f4y6tFyw_4z9",
        "colab_type": "code",
        "colab": {}
      },
      "source": [
        "# HITS SCORE\n",
        "# hits_train = nx.hits(train_graph, max_iter=100, tol=1e-08, nstart=None, normalized=True)\n",
        "# hits_test = nx.hits(test_graph, max_iter=100, tol=1e-08, nstart=None, normalized=True)\n",
        "hits = pickle.load(open('/content/drive/My Drive/Facebook/data/fea_sample/hits.p','rb'))"
      ],
      "execution_count": null,
      "outputs": []
    },
    {
      "cell_type": "code",
      "metadata": {
        "id": "EdstYjK7HX3S",
        "colab_type": "code",
        "colab": {}
      },
      "source": [
        "#using HITS for train \n",
        "df_train['hubs_s']=df_train.source_node.apply(lambda x:hits[0].get(x,0))\n",
        "df_train['hubs_d']=df_train.destination_node.apply(lambda x:hits[0].get(x,0))\n",
        "\n",
        "df_train['authorities_s']=df_train.source_node.apply(lambda x:hits[1].get(x,0))\n",
        "df_train['authorities_d']=df_train.destination_node.apply(lambda x:hits[1].get(x,0))\n"
      ],
      "execution_count": null,
      "outputs": []
    },
    {
      "cell_type": "code",
      "metadata": {
        "id": "R0oJOyPwKOFx",
        "colab_type": "code",
        "colab": {}
      },
      "source": [
        "# using HITS for test\n",
        "df_test['hubs_s']=df_test.source_node.apply(lambda x:hits[0].get(x,0))\n",
        "df_test['hubs_d']=df_test.destination_node.apply(lambda x:hits[0].get(x,0))\n",
        "\n",
        "df_test['authorities_s']=df_test.source_node.apply(lambda x:hits[1].get(x,0))\n",
        "df_test['authorities_d']=df_test.destination_node.apply(lambda x:hits[1].get(x,0))\n",
        "\n"
      ],
      "execution_count": null,
      "outputs": []
    },
    {
      "cell_type": "code",
      "metadata": {
        "id": "dcNGnkgrNI3n",
        "colab_type": "code",
        "colab": {
          "base_uri": "https://localhost:8080/",
          "height": 51
        },
        "outputId": "89c6cb82-7a68-4145-cc50-61b1f00e4abe"
      },
      "source": [
        "#weight for source and destination for train and test\n",
        "from tqdm import tqdm\n",
        "weight_in={}\n",
        "weight_out={}\n",
        "for i in tqdm(train_graph.nodes()):\n",
        "  s1=set(train_graph.predecessors(i))\n",
        "  w1=1/(np.sqrt(1+len(s1)))\n",
        "  weight_in[i]=w1\n",
        "\n",
        "  s2=set(train_graph.successors(i))\n",
        "  w2=1/(np.sqrt(1+len(s2)))\n",
        "  weight_out[i]=w2\n",
        "\n",
        "mean_weight_in=np.mean(list(weight_in.values()))\n",
        "mean_weight_out=np.mean(list(weight_out.values()))\n",
        "\n",
        "\n",
        "weight_in_test={}\n",
        "weight_out_test={}\n",
        "for i in tqdm(test_graph.nodes()):\n",
        "  s1_test=set(test_graph.predecessors(i))\n",
        "  w1_test=1/(np.sqrt(1+len(s1_test)))\n",
        "  weight_in_test[i]=w1_test\n",
        "\n",
        "  s2_test=set(test_graph.successors(i))\n",
        "  w2_test=1/(np.sqrt(1+len(s2_test)))\n",
        "  weight_out_test[i]=w2_test\n",
        "\n",
        "mean_weight_in_test=np.mean(list(weight_in_test.values()))\n",
        "mean_weight_out_test=np.mean(list(weight_out_test.values()))\n",
        "\n",
        "\n"
      ],
      "execution_count": null,
      "outputs": [
        {
          "output_type": "stream",
          "text": [
            "100%|██████████| 1780722/1780722 [00:19<00:00, 93713.42it/s] \n",
            "100%|██████████| 1144623/1144623 [00:09<00:00, 125246.97it/s]\n"
          ],
          "name": "stderr"
        }
      ]
    },
    {
      "cell_type": "code",
      "metadata": {
        "id": "5D1YvTpUYbxx",
        "colab_type": "code",
        "colab": {}
      },
      "source": [
        "df_train['weight_in']=df_train.destination_node.apply(lambda x:weight_in.get(x,mean_weight_in))\n",
        "df_train['weight_out']=df_train.source_node.apply(lambda x:weight_out.get(x,mean_weight_out))\n",
        "\n",
        "df_train['weight_f1']=df_train.weight_in + df_train.weight_out\n",
        "df_train['weight_f2']= df_train.weight_in * df_train.weight_out\n",
        "df_train['weight_f3']= 2*df_train.weight_in + 1*df_train.weight_out\n",
        "df_train['weight_f4']= 1*df_train.weight_in + 2*df_train.weight_out"
      ],
      "execution_count": null,
      "outputs": []
    },
    {
      "cell_type": "code",
      "metadata": {
        "id": "Tjz54YcFaH9I",
        "colab_type": "code",
        "colab": {}
      },
      "source": [
        "df_test['weight_in']=df_test.destination_node.apply(lambda x: weight_in_test.get(x,mean_weight_in_test))\n",
        "df_test['weight_out']=df_test.source_node.apply(lambda x: weight_in_test.get(x,mean_weight_in_test))\n",
        "\n",
        "df_test['weight_f1']= df_test.weight_in +  df_test.weight_out\n",
        "df_test['weight_f2']= df_test.weight_in *  df_test.weight_out\n",
        "df_test['weight_f3']= 2*df_test.weight_in + 1*df_test.weight_out\n",
        "df_test['weight_f4']= 1*df_test.weight_in + 2*df_test.weight_out\n"
      ],
      "execution_count": null,
      "outputs": []
    },
    {
      "cell_type": "code",
      "metadata": {
        "id": "Iu4PGzamk4p2",
        "colab_type": "code",
        "colab": {}
      },
      "source": [
        "#number of followers of source and destination of train\n",
        "def calculate_followees_followers_count(dataframe):\n",
        "  n_followers_source=[]\n",
        "  n_followee_source=[]\n",
        "  n_followers_destination=[]\n",
        "  n_followee_destination=[]\n",
        "  for i, j in dataframe.iterrows():\n",
        "    try:\n",
        "      a1=set(train_graph.predecessors(j['source_node']))\n",
        "      a2=set(train_graph.successors(j['source_node']))\n",
        "    except:\n",
        "      a1=set()\n",
        "      a2=set()\n",
        "    try:\n",
        "      b1=set(train_graph.predecessors(j['destination_node']))\n",
        "      b2=set(train_graph.successors(j['destination_node']))\n",
        "    except:\n",
        "      b1=set()\n",
        "      b2=set()\n",
        "    n_followers_source.append(len(a1))\n",
        "    n_followee_source.append(len(a2))\n",
        "    n_followers_destination.append(len(b1))\n",
        "    n_followee_destination.append(len(b2))\n",
        "  return n_followee_source,n_followers_source,n_followee_destination,n_followers_destination"
      ],
      "execution_count": null,
      "outputs": []
    },
    {
      "cell_type": "code",
      "metadata": {
        "id": "ZUakixzerlCb",
        "colab_type": "code",
        "colab": {}
      },
      "source": [
        "df_train['n_followers_source'],df_train['n_followee_source'],df_train['n_followers_destination'],df_train['n_followee_destination']=calculate_followees_followers_count(df_train)"
      ],
      "execution_count": null,
      "outputs": []
    },
    {
      "cell_type": "code",
      "metadata": {
        "id": "dA683eTq63AD",
        "colab_type": "code",
        "colab": {}
      },
      "source": [
        "#number of followers of source and destination of test\n",
        "def calculate_followees_followers_count_test(dataframe):\n",
        "  n_followers_source=[]\n",
        "  n_followee_source=[]\n",
        "  n_followers_destination=[]\n",
        "  n_followee_destination=[]\n",
        "  for i, j in dataframe.iterrows():\n",
        "    try:\n",
        "      a1=set(test_graph.predecessors(j['source_node']))\n",
        "      a2=set(test_graph.successors(j['source_node']))\n",
        "    except:\n",
        "      a1=set()\n",
        "      a2=set()\n",
        "    try:\n",
        "      b1=set(test_graph.predecessors(j['destination_node']))\n",
        "      b2=set(test_graph.successors(j['destination_node']))\n",
        "    except:\n",
        "      b1=set()\n",
        "      b2=set()\n",
        "    n_followers_source.append(len(a1))\n",
        "    n_followee_source.append(len(a2))\n",
        "    n_followers_destination.append(len(b1))\n",
        "    n_followee_destination.append(len(b2))\n",
        "  return n_followee_source,n_followers_source,n_followee_destination,n_followers_destination"
      ],
      "execution_count": null,
      "outputs": []
    },
    {
      "cell_type": "code",
      "metadata": {
        "id": "Tj1ojmXTuZqg",
        "colab_type": "code",
        "colab": {}
      },
      "source": [
        "df_test['n_followers_source'],df_test['n_followee_source'],df_test['n_followers_destination'],df_test['n_followee_destination']=calculate_followees_followers_count(df_test)"
      ],
      "execution_count": null,
      "outputs": []
    },
    {
      "cell_type": "code",
      "metadata": {
        "id": "v8P4xBf6vsYu",
        "colab_type": "code",
        "colab": {}
      },
      "source": [
        "x=np.array(df_train['n_followers_source'])\n",
        "y=np.array(df_train['n_followers_destination'])\n",
        "pref_followers=[]\n",
        "for i in range(len(x)):\n",
        "  pref_followers.append(x[i]*y[i])\n",
        "df_train['Pref_followers']=pref_followers  \n",
        "           "
      ],
      "execution_count": null,
      "outputs": []
    },
    {
      "cell_type": "code",
      "metadata": {
        "id": "Zaf3O5KUaok_",
        "colab_type": "code",
        "colab": {}
      },
      "source": [
        "x=np.array(df_train['n_followee_source'])\n",
        "y=np.array(df_train['n_followee_destination'])\n",
        "pref_followee=[]\n",
        "for i in range(len(x)):\n",
        "  pref_followee.append(x[i]*y[i])\n",
        "df_train['Pref_followee']=pref_followee  "
      ],
      "execution_count": null,
      "outputs": []
    },
    {
      "cell_type": "code",
      "metadata": {
        "id": "e0Ani-2cAvQ3",
        "colab_type": "code",
        "colab": {}
      },
      "source": [
        "x=np.array(df_test['n_followers_source'])\n",
        "y=np.array(df_test['n_followers_destination'])\n",
        "pref_followers=[]\n",
        "for i in range(len(x)):\n",
        "  pref_followers.append(x[i]*y[i])\n",
        "df_test['Pref_followers']=pref_followers "
      ],
      "execution_count": null,
      "outputs": []
    },
    {
      "cell_type": "code",
      "metadata": {
        "id": "JB-pXfYXbP4x",
        "colab_type": "code",
        "colab": {}
      },
      "source": [
        "x_test=np.array(df_test['n_followee_source'])\n",
        "y_test=np.array(df_test['n_followee_destination'])\n",
        "pref_followee_test=[]\n",
        "for i in range(len(x_test)):\n",
        "  pref_followee_test.append(x_test[i]*y_test[i])\n",
        "df_test['Pref_followee']=pref_followee_test  "
      ],
      "execution_count": null,
      "outputs": []
    },
    {
      "cell_type": "markdown",
      "metadata": {
        "id": "u0N8IQ0ve33b",
        "colab_type": "text"
      },
      "source": [
        "**Calculating SVD**"
      ]
    },
    {
      "cell_type": "code",
      "metadata": {
        "id": "EeICLrEEe9p-",
        "colab_type": "code",
        "colab": {
          "base_uri": "https://localhost:8080/",
          "height": 68
        },
        "outputId": "961a3539-082e-40a7-e326-db310aceedb0"
      },
      "source": [
        "# for train\n",
        "from scipy.sparse.linalg import svds\n",
        "\n",
        "nodes_train=sorted(train_graph.nodes())\n",
        "nodes_dict_t={value:index for index,value in enumerate(nodes_train)}\n",
        "\n",
        "adjacent_matrix_t=nx.adjacency_matrix(train_graph,nodelist=sorted(train_graph.nodes())).asfptype()\n",
        "\n",
        "U,s,V=svds(adjacent_matrix_t,k=6)\n",
        "print(U.shape)\n",
        "print(s.shape)\n",
        "print(V.shape)\n"
      ],
      "execution_count": null,
      "outputs": [
        {
          "output_type": "stream",
          "text": [
            "(1780722, 6)\n",
            "(6,)\n",
            "(6, 1780722)\n"
          ],
          "name": "stdout"
        }
      ]
    },
    {
      "cell_type": "code",
      "metadata": {
        "id": "m222PwjlirWU",
        "colab_type": "code",
        "colab": {}
      },
      "source": [
        "def SVD(a,M):\n",
        "  try:\n",
        "    index=nodes_dict_t[a]\n",
        "    values=M[index]\n",
        "    return values\n",
        "  except:\n",
        "    return [0,0,0,0,0,0]"
      ],
      "execution_count": null,
      "outputs": []
    },
    {
      "cell_type": "code",
      "metadata": {
        "id": "lcmatVpgjsRI",
        "colab_type": "code",
        "colab": {
          "base_uri": "https://localhost:8080/",
          "height": 68
        },
        "outputId": "dc15e58c-2dee-4a8d-a926-b167336d6d36"
      },
      "source": [
        "# for test\n",
        "from scipy.sparse.linalg import svds\n",
        "\n",
        "nodes_test=sorted(test_graph.nodes())\n",
        "nodes_dict_te={value:index for index,value in enumerate(nodes_test)}\n",
        "\n",
        "adjacent_matrix_te=nx.adjacency_matrix(test_graph,nodelist=sorted(test_graph.nodes())).asfptype()\n",
        "\n",
        "Ute,se,Vte=svds(adjacent_matrix_te,k=6)\n",
        "print(Ute.shape)\n",
        "print(se.shape)\n",
        "print(Vte.shape)"
      ],
      "execution_count": null,
      "outputs": [
        {
          "output_type": "stream",
          "text": [
            "(1144623, 6)\n",
            "(6,)\n",
            "(6, 1144623)\n"
          ],
          "name": "stdout"
        }
      ]
    },
    {
      "cell_type": "code",
      "metadata": {
        "id": "LD_D0iQGkE_R",
        "colab_type": "code",
        "colab": {}
      },
      "source": [
        "def SVD_te(a,M):\n",
        "  try:\n",
        "    index=nodes_dict_te[a]\n",
        "    values=M[index]\n",
        "    return values\n",
        "  except:\n",
        "    return [0,0,0,0,0,0]"
      ],
      "execution_count": null,
      "outputs": []
    },
    {
      "cell_type": "code",
      "metadata": {
        "id": "_er-hIoskKKv",
        "colab_type": "code",
        "colab": {}
      },
      "source": [
        "# adding in df_train\n",
        "\n",
        "from pandas import Series\n",
        "df_train[['svd_s_u1','svd_s_u2','svd_s_u3','svd_s_u4','svd_s_u5','svd_s_u6']]= \\\n",
        "df_train.source_node.apply(lambda x: SVD(x,U)).apply(pd.Series)\n",
        "\n",
        "df_train[['svd_d_u1','svd_d_u2','svd_d_u3','svd_d_u4','svd_d_u5','svd_d_u6']]= \\\n",
        "df_train.destination_node.apply(lambda x: SVD(x,U)).apply(pd.Series)\n",
        "\n",
        "df_train[['svd_s_v1','svd_s_v2','svd_s_v3','svd_s_v4','svd_s_v5','svd_s_v6']]= \\\n",
        "df_train.source_node.apply(lambda x: SVD(x,V.T)).apply(pd.Series)\n",
        "\n",
        "df_train[['svd_d_v1','svd_d_v2','svd_d_v3','svd_d_v4','svd_d_v5','svd_d_v6']]= \\\n",
        "df_train.destination_node.apply(lambda x: SVD(x,V.T)).apply(pd.Series)\n",
        "\n"
      ],
      "execution_count": null,
      "outputs": []
    },
    {
      "cell_type": "code",
      "metadata": {
        "id": "bTxxW42MnTCK",
        "colab_type": "code",
        "colab": {}
      },
      "source": [
        "# adding features in test\n",
        "\n",
        "df_test[['svd_s_u1','svd_s_u2','svd_s_u3','svd_s_u4','svd_s_u5','svd_s_u6']]= \\\n",
        "df_test.source_node.apply(lambda x: SVD_te(x,Ute)).apply(pd.Series)\n",
        "\n",
        "df_test[['svd_d_u1','svd_d_u2','svd_d_u3','svd_d_u4','svd_d_u5','svd_d_u6']]= \\\n",
        "df_test.destination_node.apply(lambda x: SVD_te(x,Ute)).apply(pd.Series)\n",
        "\n",
        "df_test[['svd_s_v1','svd_s_v2','svd_s_v3','svd_s_v4','svd_s_v5','svd_s_v6']]= \\\n",
        "df_test.source_node.apply(lambda x: SVD_te(x,Vte.T)).apply(pd.Series)\n",
        "\n",
        "df_test[['svd_d_v1','svd_d_v2','svd_d_v3','svd_d_v4','svd_d_v5','svd_d_v6']]= \\\n",
        "df_test.destination_node.apply(lambda x: SVD_te(x,Vte.T)).apply(pd.Series)"
      ],
      "execution_count": null,
      "outputs": []
    },
    {
      "cell_type": "code",
      "metadata": {
        "id": "8QkAFCnwMMb9",
        "colab_type": "code",
        "colab": {
          "base_uri": "https://localhost:8080/",
          "height": 309
        },
        "outputId": "c7da7cde-879c-4eda-b005-1a7c643a38d3"
      },
      "source": [
        "df_train.head()"
      ],
      "execution_count": null,
      "outputs": [
        {
          "output_type": "execute_result",
          "data": {
            "text/html": [
              "<div>\n",
              "<style scoped>\n",
              "    .dataframe tbody tr th:only-of-type {\n",
              "        vertical-align: middle;\n",
              "    }\n",
              "\n",
              "    .dataframe tbody tr th {\n",
              "        vertical-align: top;\n",
              "    }\n",
              "\n",
              "    .dataframe thead th {\n",
              "        text-align: right;\n",
              "    }\n",
              "</style>\n",
              "<table border=\"1\" class=\"dataframe\">\n",
              "  <thead>\n",
              "    <tr style=\"text-align: right;\">\n",
              "      <th></th>\n",
              "      <th>source_node</th>\n",
              "      <th>destination_node</th>\n",
              "      <th>J_followees</th>\n",
              "      <th>J_followers</th>\n",
              "      <th>cos_followees</th>\n",
              "      <th>cos_followers</th>\n",
              "      <th>Page_Rank_s</th>\n",
              "      <th>Page_Rank_d</th>\n",
              "      <th>shortest_path</th>\n",
              "      <th>same_wcc</th>\n",
              "      <th>adar_index</th>\n",
              "      <th>f_back</th>\n",
              "      <th>katz_s</th>\n",
              "      <th>katz_d</th>\n",
              "      <th>hubs_s</th>\n",
              "      <th>hubs_d</th>\n",
              "      <th>authorities_s</th>\n",
              "      <th>authorities_d</th>\n",
              "      <th>weight_in</th>\n",
              "      <th>weight_out</th>\n",
              "      <th>weight_f1</th>\n",
              "      <th>weight_f2</th>\n",
              "      <th>weight_f3</th>\n",
              "      <th>weight_f4</th>\n",
              "      <th>n_followers_source</th>\n",
              "      <th>n_followee_source</th>\n",
              "      <th>n_followers_destination</th>\n",
              "      <th>n_followee_destination</th>\n",
              "      <th>Pref_followers</th>\n",
              "      <th>Pref_followee</th>\n",
              "      <th>svd_s_u1</th>\n",
              "      <th>svd_s_u2</th>\n",
              "      <th>svd_s_u3</th>\n",
              "      <th>svd_s_u4</th>\n",
              "      <th>svd_s_u5</th>\n",
              "      <th>svd_s_u6</th>\n",
              "      <th>svd_d_u1</th>\n",
              "      <th>svd_d_u2</th>\n",
              "      <th>svd_d_u3</th>\n",
              "      <th>svd_d_u4</th>\n",
              "      <th>svd_d_u5</th>\n",
              "      <th>svd_d_u6</th>\n",
              "      <th>svd_s_v1</th>\n",
              "      <th>svd_s_v2</th>\n",
              "      <th>svd_s_v3</th>\n",
              "      <th>svd_s_v4</th>\n",
              "      <th>svd_s_v5</th>\n",
              "      <th>svd_s_v6</th>\n",
              "      <th>svd_d_v1</th>\n",
              "      <th>svd_d_v2</th>\n",
              "      <th>svd_d_v3</th>\n",
              "      <th>svd_d_v4</th>\n",
              "      <th>svd_d_v5</th>\n",
              "      <th>svd_d_v6</th>\n",
              "    </tr>\n",
              "  </thead>\n",
              "  <tbody>\n",
              "    <tr>\n",
              "      <th>0</th>\n",
              "      <td>273084</td>\n",
              "      <td>1505602</td>\n",
              "      <td>0.000000</td>\n",
              "      <td>0.000000</td>\n",
              "      <td>0.000000</td>\n",
              "      <td>0.000000</td>\n",
              "      <td>2.045290e-06</td>\n",
              "      <td>3.459963e-07</td>\n",
              "      <td>4</td>\n",
              "      <td>1</td>\n",
              "      <td>0.000000</td>\n",
              "      <td>0</td>\n",
              "      <td>0.000773</td>\n",
              "      <td>0.000756</td>\n",
              "      <td>1.943132e-13</td>\n",
              "      <td>1.941103e-13</td>\n",
              "      <td>9.226339e-16</td>\n",
              "      <td>2.231877e-15</td>\n",
              "      <td>0.377964</td>\n",
              "      <td>0.250000</td>\n",
              "      <td>0.627964</td>\n",
              "      <td>0.094491</td>\n",
              "      <td>1.005929</td>\n",
              "      <td>0.877964</td>\n",
              "      <td>15</td>\n",
              "      <td>11</td>\n",
              "      <td>8</td>\n",
              "      <td>6</td>\n",
              "      <td>120</td>\n",
              "      <td>66</td>\n",
              "      <td>1.666308e-13</td>\n",
              "      <td>4.613744e-13</td>\n",
              "      <td>1.043041e-05</td>\n",
              "      <td>6.678017e-13</td>\n",
              "      <td>2.451066e-13</td>\n",
              "      <td>3.584944e-12</td>\n",
              "      <td>2.038018e-11</td>\n",
              "      <td>5.397908e-13</td>\n",
              "      <td>1.068942e-06</td>\n",
              "      <td>1.192461e-12</td>\n",
              "      <td>2.279487e-12</td>\n",
              "      <td>3.581201e-12</td>\n",
              "      <td>7.216138e-13</td>\n",
              "      <td>3.926189e-13</td>\n",
              "      <td>1.983681e-06</td>\n",
              "      <td>1.545081e-13</td>\n",
              "      <td>8.108392e-13</td>\n",
              "      <td>1.719694e-14</td>\n",
              "      <td>1.355367e-12</td>\n",
              "      <td>4.675301e-13</td>\n",
              "      <td>1.128583e-06</td>\n",
              "      <td>6.616655e-14</td>\n",
              "      <td>9.771047e-13</td>\n",
              "      <td>4.159935e-14</td>\n",
              "    </tr>\n",
              "    <tr>\n",
              "      <th>1</th>\n",
              "      <td>1538840</td>\n",
              "      <td>1141034</td>\n",
              "      <td>0.071429</td>\n",
              "      <td>0.114286</td>\n",
              "      <td>0.234261</td>\n",
              "      <td>0.306786</td>\n",
              "      <td>2.826082e-06</td>\n",
              "      <td>2.495261e-07</td>\n",
              "      <td>2</td>\n",
              "      <td>1</td>\n",
              "      <td>2.232539</td>\n",
              "      <td>1</td>\n",
              "      <td>0.000861</td>\n",
              "      <td>0.000752</td>\n",
              "      <td>3.237915e-16</td>\n",
              "      <td>3.151671e-17</td>\n",
              "      <td>7.084771e-16</td>\n",
              "      <td>7.252068e-18</td>\n",
              "      <td>0.408248</td>\n",
              "      <td>0.154303</td>\n",
              "      <td>0.562552</td>\n",
              "      <td>0.062994</td>\n",
              "      <td>0.970800</td>\n",
              "      <td>0.716855</td>\n",
              "      <td>41</td>\n",
              "      <td>33</td>\n",
              "      <td>4</td>\n",
              "      <td>5</td>\n",
              "      <td>164</td>\n",
              "      <td>165</td>\n",
              "      <td>7.467048e-14</td>\n",
              "      <td>2.544613e-09</td>\n",
              "      <td>1.285513e-10</td>\n",
              "      <td>4.101298e-11</td>\n",
              "      <td>5.593669e-12</td>\n",
              "      <td>5.973712e-15</td>\n",
              "      <td>7.902670e-15</td>\n",
              "      <td>4.354016e-10</td>\n",
              "      <td>4.110788e-11</td>\n",
              "      <td>2.332124e-13</td>\n",
              "      <td>1.839036e-14</td>\n",
              "      <td>5.814635e-16</td>\n",
              "      <td>1.211052e-13</td>\n",
              "      <td>1.445489e-08</td>\n",
              "      <td>5.002072e-11</td>\n",
              "      <td>5.848236e-13</td>\n",
              "      <td>7.064760e-13</td>\n",
              "      <td>1.320395e-14</td>\n",
              "      <td>2.813447e-15</td>\n",
              "      <td>4.920437e-10</td>\n",
              "      <td>3.620088e-12</td>\n",
              "      <td>7.888487e-13</td>\n",
              "      <td>1.015867e-13</td>\n",
              "      <td>1.351702e-16</td>\n",
              "    </tr>\n",
              "    <tr>\n",
              "      <th>2</th>\n",
              "      <td>1144943</td>\n",
              "      <td>1077332</td>\n",
              "      <td>0.208333</td>\n",
              "      <td>0.052632</td>\n",
              "      <td>0.345033</td>\n",
              "      <td>0.100504</td>\n",
              "      <td>1.030387e-06</td>\n",
              "      <td>6.002220e-07</td>\n",
              "      <td>2</td>\n",
              "      <td>1</td>\n",
              "      <td>4.580830</td>\n",
              "      <td>0</td>\n",
              "      <td>0.000774</td>\n",
              "      <td>0.000766</td>\n",
              "      <td>4.512472e-16</td>\n",
              "      <td>5.205383e-14</td>\n",
              "      <td>2.984585e-15</td>\n",
              "      <td>1.831384e-15</td>\n",
              "      <td>0.316228</td>\n",
              "      <td>0.258199</td>\n",
              "      <td>0.574427</td>\n",
              "      <td>0.081650</td>\n",
              "      <td>0.890654</td>\n",
              "      <td>0.832626</td>\n",
              "      <td>14</td>\n",
              "      <td>11</td>\n",
              "      <td>15</td>\n",
              "      <td>9</td>\n",
              "      <td>210</td>\n",
              "      <td>99</td>\n",
              "      <td>5.105824e-11</td>\n",
              "      <td>9.259710e-13</td>\n",
              "      <td>5.297753e-10</td>\n",
              "      <td>4.549208e-13</td>\n",
              "      <td>2.929843e-12</td>\n",
              "      <td>8.325140e-15</td>\n",
              "      <td>3.080405e-11</td>\n",
              "      <td>7.456866e-13</td>\n",
              "      <td>5.313076e-10</td>\n",
              "      <td>9.250528e-13</td>\n",
              "      <td>7.368729e-12</td>\n",
              "      <td>9.603572e-13</td>\n",
              "      <td>9.866569e-10</td>\n",
              "      <td>9.419871e-13</td>\n",
              "      <td>1.542044e-10</td>\n",
              "      <td>7.523548e-12</td>\n",
              "      <td>1.399595e-12</td>\n",
              "      <td>5.562989e-14</td>\n",
              "      <td>3.969420e-12</td>\n",
              "      <td>3.227847e-13</td>\n",
              "      <td>3.098287e-11</td>\n",
              "      <td>4.397921e-13</td>\n",
              "      <td>4.769654e-13</td>\n",
              "      <td>3.413531e-14</td>\n",
              "    </tr>\n",
              "    <tr>\n",
              "      <th>3</th>\n",
              "      <td>1445857</td>\n",
              "      <td>1277246</td>\n",
              "      <td>0.142857</td>\n",
              "      <td>0.100000</td>\n",
              "      <td>0.320256</td>\n",
              "      <td>0.188982</td>\n",
              "      <td>5.845586e-07</td>\n",
              "      <td>2.927012e-07</td>\n",
              "      <td>2</td>\n",
              "      <td>1</td>\n",
              "      <td>1.641967</td>\n",
              "      <td>1</td>\n",
              "      <td>0.000759</td>\n",
              "      <td>0.000747</td>\n",
              "      <td>2.425198e-17</td>\n",
              "      <td>3.756301e-18</td>\n",
              "      <td>1.192816e-17</td>\n",
              "      <td>1.637165e-18</td>\n",
              "      <td>0.447214</td>\n",
              "      <td>0.267261</td>\n",
              "      <td>0.714475</td>\n",
              "      <td>0.119523</td>\n",
              "      <td>1.161688</td>\n",
              "      <td>0.981736</td>\n",
              "      <td>13</td>\n",
              "      <td>7</td>\n",
              "      <td>3</td>\n",
              "      <td>4</td>\n",
              "      <td>39</td>\n",
              "      <td>28</td>\n",
              "      <td>8.163041e-14</td>\n",
              "      <td>1.117077e-11</td>\n",
              "      <td>2.687542e-12</td>\n",
              "      <td>3.466928e-14</td>\n",
              "      <td>2.078839e-13</td>\n",
              "      <td>4.472537e-16</td>\n",
              "      <td>1.765769e-14</td>\n",
              "      <td>1.115730e-13</td>\n",
              "      <td>6.938506e-14</td>\n",
              "      <td>4.406626e-15</td>\n",
              "      <td>6.905364e-15</td>\n",
              "      <td>6.923339e-17</td>\n",
              "      <td>5.115952e-13</td>\n",
              "      <td>2.987301e-12</td>\n",
              "      <td>1.338796e-12</td>\n",
              "      <td>8.442368e-14</td>\n",
              "      <td>1.054643e-13</td>\n",
              "      <td>2.223306e-16</td>\n",
              "      <td>3.979789e-15</td>\n",
              "      <td>5.955492e-13</td>\n",
              "      <td>3.342234e-13</td>\n",
              "      <td>7.308503e-14</td>\n",
              "      <td>3.043095e-13</td>\n",
              "      <td>3.051287e-17</td>\n",
              "    </tr>\n",
              "    <tr>\n",
              "      <th>4</th>\n",
              "      <td>1832376</td>\n",
              "      <td>1394586</td>\n",
              "      <td>0.058824</td>\n",
              "      <td>0.000000</td>\n",
              "      <td>0.160644</td>\n",
              "      <td>0.000000</td>\n",
              "      <td>3.628995e-06</td>\n",
              "      <td>1.968740e-07</td>\n",
              "      <td>4</td>\n",
              "      <td>1</td>\n",
              "      <td>1.541562</td>\n",
              "      <td>1</td>\n",
              "      <td>0.000906</td>\n",
              "      <td>0.000740</td>\n",
              "      <td>6.627109e-15</td>\n",
              "      <td>2.148367e-15</td>\n",
              "      <td>4.104686e-14</td>\n",
              "      <td>1.503694e-15</td>\n",
              "      <td>0.577350</td>\n",
              "      <td>0.176777</td>\n",
              "      <td>0.754127</td>\n",
              "      <td>0.102062</td>\n",
              "      <td>1.331477</td>\n",
              "      <td>0.930904</td>\n",
              "      <td>31</td>\n",
              "      <td>44</td>\n",
              "      <td>5</td>\n",
              "      <td>2</td>\n",
              "      <td>155</td>\n",
              "      <td>88</td>\n",
              "      <td>3.181740e-11</td>\n",
              "      <td>3.111736e-10</td>\n",
              "      <td>1.227010e-05</td>\n",
              "      <td>5.021351e-12</td>\n",
              "      <td>3.266740e-11</td>\n",
              "      <td>1.222625e-13</td>\n",
              "      <td>1.195173e-12</td>\n",
              "      <td>8.554717e-13</td>\n",
              "      <td>1.388486e-06</td>\n",
              "      <td>1.504900e-13</td>\n",
              "      <td>9.505527e-13</td>\n",
              "      <td>3.963447e-14</td>\n",
              "      <td>2.637041e-11</td>\n",
              "      <td>3.183467e-11</td>\n",
              "      <td>1.189513e-05</td>\n",
              "      <td>3.138570e-12</td>\n",
              "      <td>1.947234e-11</td>\n",
              "      <td>7.650466e-13</td>\n",
              "      <td>1.230935e-12</td>\n",
              "      <td>3.220206e-12</td>\n",
              "      <td>3.525327e-07</td>\n",
              "      <td>1.663431e-13</td>\n",
              "      <td>8.744329e-13</td>\n",
              "      <td>2.802671e-14</td>\n",
              "    </tr>\n",
              "  </tbody>\n",
              "</table>\n",
              "</div>"
            ],
            "text/plain": [
              "   source_node  destination_node  ...      svd_d_v5      svd_d_v6\n",
              "0       273084           1505602  ...  9.771047e-13  4.159935e-14\n",
              "1      1538840           1141034  ...  1.015867e-13  1.351702e-16\n",
              "2      1144943           1077332  ...  4.769654e-13  3.413531e-14\n",
              "3      1445857           1277246  ...  3.043095e-13  3.051287e-17\n",
              "4      1832376           1394586  ...  8.744329e-13  2.802671e-14\n",
              "\n",
              "[5 rows x 54 columns]"
            ]
          },
          "metadata": {
            "tags": []
          },
          "execution_count": 361
        }
      ]
    },
    {
      "cell_type": "code",
      "metadata": {
        "id": "LoJE1CM-oopu",
        "colab_type": "code",
        "colab": {}
      },
      "source": [
        "# train \n",
        "x1,x2,x3,x4,x5,x6,x7,x8,x9,x10,x11,x12=df_train['svd_s_u1'],df_train['svd_s_u2'],df_train['svd_s_u3'],df_train['svd_s_u4'],df_train['svd_s_u5'],df_train['svd_s_u6'],df_train['svd_s_v1'],df_train['svd_s_v2'],df_train['svd_s_v3'],df_train['svd_s_v4'],df_train['svd_s_v5'],df_train['svd_s_v6']\n",
        "y1,y2,y3,y4,y5,y6,y7,y8,y9,y10,y11,y12=df_train['svd_d_u1'],df_train['svd_d_u2'],df_train['svd_d_u3'],df_train['svd_d_u4'],df_train['svd_d_u5'],df_train['svd_d_u6'],df_train['svd_d_v1'],df_train['svd_d_v2'],df_train['svd_d_v3'],df_train['svd_d_v4'],df_train['svd_d_v5'],df_train['svd_d_v6']\n"
      ],
      "execution_count": null,
      "outputs": []
    },
    {
      "cell_type": "code",
      "metadata": {
        "id": "yTWuchwSs9M3",
        "colab_type": "code",
        "colab": {}
      },
      "source": [
        "SVD_dot=[]\n",
        "for i in range(len(np.array(x1))):\n",
        "  x=[]\n",
        "  y=[]\n",
        "  x.append(np.array(x1[i]))\n",
        "  x.append(np.array(x2[i]))\n",
        "  x.append(np.array(x3[i]))\n",
        "  x.append(np.array(x4[i]))\n",
        "  x.append(np.array(x5[i]))\n",
        "  x.append(np.array(x6[i]))\n",
        "  x.append(np.array(x7[i]))\n",
        "  x.append(np.array(x8[i]))\n",
        "  x.append(np.array(x9[i]))\n",
        "  x.append(np.array(x10[i]))\n",
        "  x.append(np.array(x11[i]))\n",
        "  x.append(np.array(x12[i]))\n",
        "  y.append(np.array(y1[i]))\n",
        "  y.append(np.array(y2[i]))\n",
        "  y.append(np.array(y3[i]))\n",
        "  y.append(np.array(y4[i]))\n",
        "  y.append(np.array(y5[i]))\n",
        "  y.append(np.array(y6[i]))\n",
        "  y.append(np.array(y7[i]))\n",
        "  y.append(np.array(y8[i]))\n",
        "  y.append(np.array(y9[i]))\n",
        "  y.append(np.array(y10[i]))\n",
        "  y.append(np.array(y11[i]))\n",
        "  y.append(np.array(y12[i]))\n",
        "  SVD_dot.append(np.dot(x,y))\n",
        "df_train['SVD_DOT']=SVD_dot  \n"
      ],
      "execution_count": null,
      "outputs": []
    },
    {
      "cell_type": "code",
      "metadata": {
        "id": "ojDQWR9SwhHl",
        "colab_type": "code",
        "colab": {}
      },
      "source": [
        "# for test\n",
        "p1,p2,p3,p4,p5,p6,p7,p8,p9,p10,p11,p12=df_test['svd_s_u1'],df_test['svd_s_u2'],df_test['svd_s_u3'],df_test['svd_s_u4'],df_test['svd_s_u5'],df_test['svd_s_u6'],df_test['svd_s_v1'],df_test['svd_s_v2'],df_test['svd_s_v3'],df_test['svd_s_v4'],df_test['svd_s_v5'],df_test['svd_s_v6']\n",
        "q1,q2,q3,q4,q5,q6,q7,q8,q9,q10,q11,q12=df_test['svd_d_u1'],df_test['svd_d_u2'],df_test['svd_d_u3'],df_test['svd_d_u4'],df_test['svd_d_u5'],df_test['svd_d_u6'],df_test['svd_d_u1'],df_test['svd_d_u2'],df_test['svd_d_u3'],df_test['svd_d_u4'],df_test['svd_d_u5'],df_test['svd_d_u6']"
      ],
      "execution_count": null,
      "outputs": []
    },
    {
      "cell_type": "code",
      "metadata": {
        "id": "CVjEydFPxLLS",
        "colab_type": "code",
        "colab": {}
      },
      "source": [
        "SVD_dot_t=[]\n",
        "for i in range(len(p1)):\n",
        "  x=[]\n",
        "  y=[]\n",
        "  x.append(np.array(p1[i]))\n",
        "  x.append(np.array(p2[i]))\n",
        "  x.append(np.array(p3[i]))\n",
        "  x.append(np.array(p4[i]))\n",
        "  x.append(np.array(p5[i]))\n",
        "  x.append(np.array(p6[i]))\n",
        "  x.append(np.array(p7[i]))\n",
        "  x.append(np.array(p8[i]))\n",
        "  x.append(np.array(p9[i]))\n",
        "  x.append(np.array(p10[i]))\n",
        "  x.append(np.array(p11[i]))\n",
        "  x.append(np.array(p12[i]))\n",
        "  y.append(np.array(q1[i]))\n",
        "  y.append(np.array(q2[i]))\n",
        "  y.append(np.array(q3[i]))\n",
        "  y.append(np.array(q4[i]))\n",
        "  y.append(np.array(q5[i]))\n",
        "  y.append(np.array(q6[i]))\n",
        "  y.append(np.array(q7[i]))\n",
        "  y.append(np.array(q8[i]))\n",
        "  y.append(np.array(q9[i]))\n",
        "  y.append(np.array(q10[i]))\n",
        "  y.append(np.array(q11[i]))\n",
        "  y.append(np.array(q12[i]))\n",
        "  SVD_dot_t.append(np.dot(x,y))\n",
        "df_test['SVD_DOT']=SVD_dot_t  "
      ],
      "execution_count": null,
      "outputs": []
    },
    {
      "cell_type": "markdown",
      "metadata": {
        "id": "c78EhhWwTZJk",
        "colab_type": "text"
      },
      "source": [
        "**MODELLING**"
      ]
    },
    {
      "cell_type": "code",
      "metadata": {
        "id": "MlOFWJ3QdCyN",
        "colab_type": "code",
        "colab": {}
      },
      "source": [
        "df_train.drop(['source_node','destination_node'],axis=1,inplace=True)\n",
        "df_test.drop(['source_node','destination_node'],axis=1,inplace=True)"
      ],
      "execution_count": null,
      "outputs": []
    },
    {
      "cell_type": "code",
      "metadata": {
        "id": "G5HfWDQQcXs4",
        "colab_type": "code",
        "colab": {
          "base_uri": "https://localhost:8080/",
          "height": 34
        },
        "outputId": "03a1977d-7914-453e-907c-fefeb07e7f01"
      },
      "source": [
        "from sklearn.ensemble import RandomForestClassifier\n",
        "from sklearn.metrics import f1_score\n",
        "\n",
        "rfc=RandomForestClassifier(n_estimators=100, criterion='gini', max_depth=None, \n",
        "                            min_samples_split=2, min_samples_leaf=1, min_weight_fraction_leaf=0.0, \n",
        "                            max_features='auto', max_leaf_nodes=None, min_impurity_decrease=0.0,\n",
        "                            min_impurity_split=None, bootstrap=True, oob_score=False, n_jobs=None, \n",
        "                            random_state=None, verbose=0, warm_start=False, class_weight=None, \n",
        "                            ccp_alpha=0.0, max_samples=None)\n",
        "rfc.fit(df_train,y_train_f)\n",
        "predicted=rfc.predict(df_train)\n",
        "F1_score=f1_score(y_train_f,predicted)\n",
        "\n",
        "\n",
        "predicted_t=rfc.predict(df_test)\n",
        "F1_score_t=f1_score(y_test_f,predicted_t)\n",
        "\n",
        "print( 'Train_score', F1_score, 'Test_score', F1_score_t)\n",
        "\n",
        "  "
      ],
      "execution_count": null,
      "outputs": [
        {
          "output_type": "stream",
          "text": [
            "Train_score 0.9957596817243288 Test_score 0.8009829182173872\n"
          ],
          "name": "stdout"
        }
      ]
    },
    {
      "cell_type": "code",
      "metadata": {
        "id": "ygvEhUUAfRiE",
        "colab_type": "code",
        "colab": {}
      },
      "source": [
        "# features importance of RandomForestClassifier"
      ],
      "execution_count": null,
      "outputs": []
    },
    {
      "cell_type": "code",
      "metadata": {
        "id": "rbo8hldcZ3CB",
        "colab_type": "code",
        "colab": {
          "base_uri": "https://localhost:8080/",
          "height": 51
        },
        "outputId": "d247fc1d-f975-41f3-b092-e9740a2e31c2"
      },
      "source": [
        "from sklearn.model_selection import RandomizedSearchCV\n",
        "\n",
        "parameter_dist={\"n_estimators\" :[95,100,105,110],\n",
        "              \"max_depth\":[5,10,15,20],\n",
        "              \"min_samples_split\": [2,5,8,11],\n",
        "              \"min_samples_leaf\": [1,2,3,4]}\n",
        "\n",
        "rfc=RandomForestClassifier(random_state=5,n_jobs=-1)\n",
        "\n",
        "rfc_random=RandomizedSearchCV(rfc, param_distributions=parameter_dist,\n",
        "                              cv=3,scoring='f1',random_state=5)\n",
        "rfc_random.fit(df_train,y_train_f)\n",
        "\n",
        "F1_score=f1_score(y_train_f,rfc_random.predict(df_train))\n",
        "\n",
        "F1_score_t=f1_score(y_test_f,rfc_random.predict(df_test))\n",
        "print(F1_score)\n",
        "print(F1_score_t)\n"
      ],
      "execution_count": null,
      "outputs": [
        {
          "output_type": "stream",
          "text": [
            "0.9718764690252825\n",
            "0.8041427691140921\n"
          ],
          "name": "stdout"
        }
      ]
    },
    {
      "cell_type": "code",
      "metadata": {
        "id": "FO37fBRHmB4s",
        "colab_type": "code",
        "colab": {
          "base_uri": "https://localhost:8080/",
          "height": 153
        },
        "outputId": "2d653f06-af44-48a1-c79d-a01a7594acc9"
      },
      "source": [
        "print(rfc_random.best_estimator_)"
      ],
      "execution_count": null,
      "outputs": [
        {
          "output_type": "stream",
          "text": [
            "RandomForestClassifier(bootstrap=True, ccp_alpha=0.0, class_weight=None,\n",
            "                       criterion='gini', max_depth=20, max_features='auto',\n",
            "                       max_leaf_nodes=None, max_samples=None,\n",
            "                       min_impurity_decrease=0.0, min_impurity_split=None,\n",
            "                       min_samples_leaf=3, min_samples_split=2,\n",
            "                       min_weight_fraction_leaf=0.0, n_estimators=100,\n",
            "                       n_jobs=-1, oob_score=False, random_state=5, verbose=0,\n",
            "                       warm_start=False)\n"
          ],
          "name": "stdout"
        }
      ]
    },
    {
      "cell_type": "code",
      "metadata": {
        "id": "T-L-i1H4VKW-",
        "colab_type": "code",
        "colab": {
          "base_uri": "https://localhost:8080/",
          "height": 34
        },
        "outputId": "aa8f9ffc-0913-486e-d926-346a09c1a582"
      },
      "source": [
        "rfc=RandomForestClassifier(bootstrap=True, ccp_alpha=0.0, class_weight=None,\n",
        "                       criterion='gini', max_depth=20, max_features='auto',\n",
        "                       max_leaf_nodes=None, max_samples=None,\n",
        "                       min_impurity_decrease=0.0, min_impurity_split=None,\n",
        "                       min_samples_leaf=3, min_samples_split=2,\n",
        "                       min_weight_fraction_leaf=0.0, n_estimators=100,\n",
        "                       n_jobs=-1, oob_score=False, random_state=5, verbose=0,\n",
        "                       warm_start=False)\n",
        "rfc.fit(df_train,y_train_f)\n",
        "predicted=rfc.predict(df_train)\n",
        "F1_score=f1_score(y_train_f,predicted)\n",
        "\n",
        "\n",
        "predicted_t=rfc.predict(df_test)\n",
        "F1_score_t=f1_score(y_test_f,predicted_t)\n",
        "\n",
        "print( 'Train_score', F1_score, 'Test_score', F1_score_t)\n",
        "\n",
        "  "
      ],
      "execution_count": null,
      "outputs": [
        {
          "output_type": "stream",
          "text": [
            "Train_score 0.9718764690252825 Test_score 0.8041427691140921\n"
          ],
          "name": "stdout"
        }
      ]
    },
    {
      "cell_type": "code",
      "metadata": {
        "id": "ZU-gJGEYoJkc",
        "colab_type": "code",
        "colab": {
          "base_uri": "https://localhost:8080/",
          "height": 839
        },
        "outputId": "f7307be7-b735-49f4-f3a3-537f538fe494"
      },
      "source": [
        "# Features Importances of RandomForestClassifier\n",
        "X=df_train.columns\n",
        "important=rfc.feature_importances_\n",
        "index=(np.argsort(important))[-25:]\n",
        "plt.figure(figsize=(10,14))\n",
        "plt.title('Rank of Features Importances')\n",
        "plt.barh(range(len(index)), important[index], color='g',align='center')\n",
        "plt.yticks(range(len(index)),[X[i] for i in index])\n",
        "plt.xlabel('Importance')\n",
        "plt.show()"
      ],
      "execution_count": null,
      "outputs": [
        {
          "output_type": "display_data",
          "data": {
            "image/png": "[encoded data removed]",
            "text/plain": [
              "<Figure size 720x1008 with 1 Axes>"
            ]
          },
          "metadata": {
            "tags": []
          }
        }
      ]
    },
    {
      "cell_type": "code",
      "metadata": {
        "id": "anw6ILMN6yyL",
        "colab_type": "code",
        "colab": {
          "base_uri": "https://localhost:8080/",
          "height": 286
        },
        "outputId": "34429a69-9d22-4ae3-d364-1d8de47f9135"
      },
      "source": [
        "from sklearn.metrics import confusion_matrix\n",
        "\n",
        "confusion_train=confusion_matrix(y_train_f,predicted)\n",
        "confusion_test=confusion_matrix(y_test_f,predicted_t)\n",
        "\n",
        "\n",
        "sns.heatmap(confusion_train, annot=True)\n",
        "\n",
        "\n"
      ],
      "execution_count": null,
      "outputs": [
        {
          "output_type": "stream",
          "text": [
            "********************************\n"
          ],
          "name": "stdout"
        },
        {
          "output_type": "display_data",
          "data": {
            "image/png": "[encoded data removed]",
            "text/plain": [
              "<Figure size 432x288 with 2 Axes>"
            ]
          },
          "metadata": {
            "tags": []
          }
        }
      ]
    },
    {
      "cell_type": "code",
      "metadata": {
        "id": "Urp3yKI5DyGL",
        "colab_type": "code",
        "colab": {
          "base_uri": "https://localhost:8080/",
          "height": 282
        },
        "outputId": "65ef60f3-c35e-4e67-a0bc-43d8aae52390"
      },
      "source": [
        "sns.heatmap(confusion_test ,annot=True)"
      ],
      "execution_count": null,
      "outputs": [
        {
          "output_type": "execute_result",
          "data": {
            "text/plain": [
              "<matplotlib.axes._subplots.AxesSubplot at 0x7f7bf50212e8>"
            ]
          },
          "metadata": {
            "tags": []
          },
          "execution_count": 371
        },
        {
          "output_type": "display_data",
          "data": {
            "image/png": "[encoded data removed]",
            "text/plain": [
              "<Figure size 432x288 with 2 Axes>"
            ]
          },
          "metadata": {
            "tags": []
          }
        }
      ]
    },
    {
      "cell_type": "code",
      "metadata": {
        "id": "wBCgH2ZBPv-N",
        "colab_type": "code",
        "colab": {
          "base_uri": "https://localhost:8080/",
          "height": 221
        },
        "outputId": "9b9fac50-26c1-41a5-f25e-9d43685ff120"
      },
      "source": [
        "df_train.columns"
      ],
      "execution_count": null,
      "outputs": [
        {
          "output_type": "execute_result",
          "data": {
            "text/plain": [
              "Index(['J_followees', 'J_followers', 'cos_followees', 'cos_followers',\n",
              "       'Page_Rank_s', 'Page_Rank_d', 'shortest_path', 'same_wcc', 'adar_index',\n",
              "       'f_back', 'katz_s', 'katz_d', 'hubs_s', 'hubs_d', 'authorities_s',\n",
              "       'authorities_d', 'weight_in', 'weight_out', 'weight_f1', 'weight_f2',\n",
              "       'weight_f3', 'weight_f4', 'n_followers_source', 'n_followee_source',\n",
              "       'n_followers_destination', 'n_followee_destination', 'Pref_followers',\n",
              "       'Pref_followee', 'svd_s_u1', 'svd_s_u2', 'svd_s_u3', 'svd_s_u4',\n",
              "       'svd_s_u5', 'svd_s_u6', 'svd_d_u1', 'svd_d_u2', 'svd_d_u3', 'svd_d_u4',\n",
              "       'svd_d_u5', 'svd_d_u6', 'svd_s_v1', 'svd_s_v2', 'svd_s_v3', 'svd_s_v4',\n",
              "       'svd_s_v5', 'svd_s_v6', 'svd_d_v1', 'svd_d_v2', 'svd_d_v3', 'svd_d_v4',\n",
              "       'svd_d_v5', 'svd_d_v6', 'SVD_DOT'],\n",
              "      dtype='object')"
            ]
          },
          "metadata": {
            "tags": []
          },
          "execution_count": 372
        }
      ]
    },
    {
      "cell_type": "code",
      "metadata": {
        "id": "0zMWVy-mEJf4",
        "colab_type": "code",
        "colab": {
          "base_uri": "https://localhost:8080/",
          "height": 68
        },
        "outputId": "2752958f-3ac7-4561-9bb1-a82a4114ccb7"
      },
      "source": [
        "from xgboost import XGBClassifier\n",
        "\n",
        "model=XGBClassifier( max_depth=5,\n",
        "                    subsample=0.5,\n",
        "                    n_estimators=200,\n",
        "                    learning_rate=0.01,\n",
        "                    min_child_weight=1\n",
        "                    )\n",
        "\n",
        "model.fit(df_train,y_train_f)\n",
        "predicted=model.predict(df_train)\n",
        "F1_score=f1_score(y_train_f,predicted)\n",
        "print(F1_score)\n",
        "print('**********************************')\n",
        "predicted_t=model.predict(df_test)\n",
        "F1_score_t=f1_score(y_test_f,predicted_t)\n",
        "print(F1_score_t)"
      ],
      "execution_count": null,
      "outputs": [
        {
          "output_type": "stream",
          "text": [
            "0.9521767368019545\n",
            "**********************************\n",
            "0.8011361033487563\n"
          ],
          "name": "stdout"
        }
      ]
    },
    {
      "cell_type": "code",
      "metadata": {
        "id": "g83f6o6edmlS",
        "colab_type": "code",
        "colab": {
          "base_uri": "https://localhost:8080/",
          "height": 839
        },
        "outputId": "3a4e90c1-557b-4fde-84ba-a02b3650210d"
      },
      "source": [
        "# Features importance for xg boost\n",
        "X=df_train.columns\n",
        "important=model.feature_importances_\n",
        "index=(np.argsort(important))[-25:]\n",
        "plt.figure(figsize=(10,14))\n",
        "plt.title('Rank of Features Importances')\n",
        "plt.barh(range(len(index)), important[index], color='b',align='center')\n",
        "plt.yticks(range(len(index)),[X[i] for i in index])\n",
        "plt.xlabel('Importance')\n",
        "plt.show()"
      ],
      "execution_count": null,
      "outputs": [
        {
          "output_type": "display_data",
          "data": {
            "image/png": "[encoded data removed]",
            "text/plain": [
              "<Figure size 720x1008 with 1 Axes>"
            ]
          },
          "metadata": {
            "tags": []
          }
        }
      ]
    }
  ]
}